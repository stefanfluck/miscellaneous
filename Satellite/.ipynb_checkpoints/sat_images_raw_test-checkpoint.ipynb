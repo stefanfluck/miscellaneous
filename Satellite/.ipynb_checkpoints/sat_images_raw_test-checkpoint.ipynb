{
 "cells": [
  {
   "cell_type": "markdown",
   "id": "14de9ce8",
   "metadata": {},
   "source": [
    "# Test Analysis of Satellite Images"
   ]
  },
  {
   "cell_type": "code",
   "execution_count": 2,
   "id": "dda07235",
   "metadata": {},
   "outputs": [],
   "source": [
    "import matplotlib.pyplot as plt\n",
    "import xarray as xr"
   ]
  },
  {
   "cell_type": "code",
   "execution_count": 3,
   "id": "430681af",
   "metadata": {},
   "outputs": [],
   "source": [
    "import os\n",
    "os.chdir('C:\\\\Users\\\\fluf\\\\Desktop\\\\satstream')"
   ]
  },
  {
   "cell_type": "code",
   "execution_count": 4,
   "id": "870d0790",
   "metadata": {},
   "outputs": [
    {
     "data": {
      "text/plain": [
       "['AF_v1r2_j01_s202201131236409_e202201131238054_c202201131254320-132307_0.nc.gz',\n",
       " 'H-000-MSG4__-MSG4________-HRV______-000015___-202201131300-C_',\n",
       " 'H-000-MSG4__-MSG4________-HRV______-000016___-202201131300-C_',\n",
       " 'H-000-MSG4__-MSG4________-HRV______-000017___-202201131300-C_',\n",
       " 'H-000-MSG4__-MSG4________-HRV______-000018___-202201131300-C_',\n",
       " 'H-000-MSG4__-MSG4________-HRV______-000019___-202201131300-C_',\n",
       " 'H-000-MSG4__-MSG4________-HRV______-000020___-202201131300-C_',\n",
       " 'H-000-MSG4__-MSG4________-IR_016___-000007___-202201131300-C_',\n",
       " 'H-000-MSG4__-MSG4________-IR_039___-000007___-202201131300-C_',\n",
       " 'H-000-MSG4__-MSG4________-IR_087___-000005___-202201131300-C_',\n",
       " 'H-000-MSG4__-MSG4________-IR_087___-000007___-202201131300-C_',\n",
       " 'H-000-MSG4__-MSG4________-IR_097___-000006___-202201131300-C_',\n",
       " 'H-000-MSG4__-MSG4________-IR_108___-000006___-202201131300-C_',\n",
       " 'H-000-MSG4__-MSG4________-IR_120___-000006___-202201131300-C_',\n",
       " 'H-000-MSG4__-MSG4________-IR_134___-000006___-202201131300-C_',\n",
       " 'H-000-MSG4__-MSG4________-VIS006___-000007___-202201131300-C_',\n",
       " 'H-000-MSG4__-MSG4________-VIS008___-000007___-202201131300-C_',\n",
       " 'H-000-MSG4__-MSG4________-WV_062___-000007___-202201131300-C_',\n",
       " 'H-000-MSG4__-MSG4________-WV_073___-000007___-202201131300-C_']"
      ]
     },
     "execution_count": 4,
     "metadata": {},
     "output_type": "execute_result"
    }
   ],
   "source": [
    "os.listdir()"
   ]
  },
  {
   "cell_type": "code",
   "execution_count": 6,
   "id": "4fb7d91f",
   "metadata": {},
   "outputs": [],
   "source": [
    "from satpy import Scene\n",
    "from glob import glob"
   ]
  },
  {
   "cell_type": "code",
   "execution_count": 10,
   "id": "1bcc1b3c",
   "metadata": {},
   "outputs": [],
   "source": [
    "filenames = glob(\"*VIS006*\")"
   ]
  },
  {
   "cell_type": "code",
   "execution_count": 11,
   "id": "0d49c4d9",
   "metadata": {},
   "outputs": [
    {
     "data": {
      "text/plain": [
       "['H-000-MSG4__-MSG4________-VIS006___-000007___-202201131300-C_']"
      ]
     },
     "execution_count": 11,
     "metadata": {},
     "output_type": "execute_result"
    }
   ],
   "source": [
    "filenames"
   ]
  },
  {
   "cell_type": "code",
   "execution_count": 12,
   "id": "7bda0233",
   "metadata": {},
   "outputs": [
    {
     "ename": "ValueError",
     "evalue": "No dataset could be loaded. Either missing requirements (such as Epilog, Prolog) or none of the provided files match the filter parameters.",
     "output_type": "error",
     "traceback": [
      "\u001b[1;31m---------------------------------------------------------------------------\u001b[0m",
      "\u001b[1;31mValueError\u001b[0m                                Traceback (most recent call last)",
      "\u001b[1;32m~\\AppData\\Local\\Temp/ipykernel_28136/991893589.py\u001b[0m in \u001b[0;36m<module>\u001b[1;34m\u001b[0m\n\u001b[1;32m----> 1\u001b[1;33m \u001b[0mglobal_scene\u001b[0m \u001b[1;33m=\u001b[0m \u001b[0mScene\u001b[0m\u001b[1;33m(\u001b[0m\u001b[0mreader\u001b[0m\u001b[1;33m=\u001b[0m\u001b[1;34m\"seviri_l1b_hrit\"\u001b[0m\u001b[1;33m,\u001b[0m \u001b[0mfilenames\u001b[0m\u001b[1;33m=\u001b[0m\u001b[0mfilenames\u001b[0m\u001b[1;33m)\u001b[0m\u001b[1;33m\u001b[0m\u001b[1;33m\u001b[0m\u001b[0m\n\u001b[0m",
      "\u001b[1;32m~\\Miniconda3\\envs\\satdata\\lib\\site-packages\\satpy\\scene.py\u001b[0m in \u001b[0;36m__init__\u001b[1;34m(self, filenames, reader, filter_parameters, reader_kwargs)\u001b[0m\n\u001b[0;32m    104\u001b[0m             \u001b[1;32mraise\u001b[0m \u001b[0mValueError\u001b[0m\u001b[1;33m(\u001b[0m\u001b[1;34m\"'filenames' must be a list of files: Scene(filenames=[filename])\"\u001b[0m\u001b[1;33m)\u001b[0m\u001b[1;33m\u001b[0m\u001b[1;33m\u001b[0m\u001b[0m\n\u001b[0;32m    105\u001b[0m \u001b[1;33m\u001b[0m\u001b[0m\n\u001b[1;32m--> 106\u001b[1;33m         self._readers = self._create_reader_instances(filenames=filenames,\n\u001b[0m\u001b[0;32m    107\u001b[0m                                                       \u001b[0mreader\u001b[0m\u001b[1;33m=\u001b[0m\u001b[0mreader\u001b[0m\u001b[1;33m,\u001b[0m\u001b[1;33m\u001b[0m\u001b[1;33m\u001b[0m\u001b[0m\n\u001b[0;32m    108\u001b[0m                                                       reader_kwargs=reader_kwargs)\n",
      "\u001b[1;32m~\\Miniconda3\\envs\\satdata\\lib\\site-packages\\satpy\\scene.py\u001b[0m in \u001b[0;36m_create_reader_instances\u001b[1;34m(self, filenames, reader, reader_kwargs)\u001b[0m\n\u001b[0;32m    125\u001b[0m                                  reader_kwargs=None):\n\u001b[0;32m    126\u001b[0m         \u001b[1;34m\"\"\"Find readers and return their instances.\"\"\"\u001b[0m\u001b[1;33m\u001b[0m\u001b[1;33m\u001b[0m\u001b[0m\n\u001b[1;32m--> 127\u001b[1;33m         return load_readers(filenames=filenames,\n\u001b[0m\u001b[0;32m    128\u001b[0m                             \u001b[0mreader\u001b[0m\u001b[1;33m=\u001b[0m\u001b[0mreader\u001b[0m\u001b[1;33m,\u001b[0m\u001b[1;33m\u001b[0m\u001b[1;33m\u001b[0m\u001b[0m\n\u001b[0;32m    129\u001b[0m                             reader_kwargs=reader_kwargs)\n",
      "\u001b[1;32m~\\Miniconda3\\envs\\satdata\\lib\\site-packages\\satpy\\readers\\__init__.py\u001b[0m in \u001b[0;36mload_readers\u001b[1;34m(filenames, reader, reader_kwargs)\u001b[0m\n\u001b[0;32m    576\u001b[0m \u001b[1;33m\u001b[0m\u001b[0m\n\u001b[0;32m    577\u001b[0m     \u001b[0m_check_remaining_files\u001b[0m\u001b[1;33m(\u001b[0m\u001b[0mremaining_filenames\u001b[0m\u001b[1;33m)\u001b[0m\u001b[1;33m\u001b[0m\u001b[1;33m\u001b[0m\u001b[0m\n\u001b[1;32m--> 578\u001b[1;33m     \u001b[0m_check_reader_instances\u001b[0m\u001b[1;33m(\u001b[0m\u001b[0mreader_instances\u001b[0m\u001b[1;33m)\u001b[0m\u001b[1;33m\u001b[0m\u001b[1;33m\u001b[0m\u001b[0m\n\u001b[0m\u001b[0;32m    579\u001b[0m     \u001b[1;32mreturn\u001b[0m \u001b[0mreader_instances\u001b[0m\u001b[1;33m\u001b[0m\u001b[1;33m\u001b[0m\u001b[0m\n\u001b[0;32m    580\u001b[0m \u001b[1;33m\u001b[0m\u001b[0m\n",
      "\u001b[1;32m~\\Miniconda3\\envs\\satdata\\lib\\site-packages\\satpy\\readers\\__init__.py\u001b[0m in \u001b[0;36m_check_reader_instances\u001b[1;34m(reader_instances)\u001b[0m\n\u001b[0;32m    617\u001b[0m         \u001b[1;32mraise\u001b[0m \u001b[0mValueError\u001b[0m\u001b[1;33m(\u001b[0m\u001b[1;34m\"No supported files found\"\u001b[0m\u001b[1;33m)\u001b[0m\u001b[1;33m\u001b[0m\u001b[1;33m\u001b[0m\u001b[0m\n\u001b[0;32m    618\u001b[0m     \u001b[1;32mif\u001b[0m \u001b[1;32mnot\u001b[0m \u001b[0many\u001b[0m\u001b[1;33m(\u001b[0m\u001b[0mlist\u001b[0m\u001b[1;33m(\u001b[0m\u001b[0mr\u001b[0m\u001b[1;33m.\u001b[0m\u001b[0mavailable_dataset_ids\u001b[0m\u001b[1;33m)\u001b[0m \u001b[1;32mfor\u001b[0m \u001b[0mr\u001b[0m \u001b[1;32min\u001b[0m \u001b[0mreader_instances\u001b[0m\u001b[1;33m.\u001b[0m\u001b[0mvalues\u001b[0m\u001b[1;33m(\u001b[0m\u001b[1;33m)\u001b[0m\u001b[1;33m)\u001b[0m\u001b[1;33m:\u001b[0m\u001b[1;33m\u001b[0m\u001b[1;33m\u001b[0m\u001b[0m\n\u001b[1;32m--> 619\u001b[1;33m         raise ValueError(\"No dataset could be loaded. Either missing \"\n\u001b[0m\u001b[0;32m    620\u001b[0m                          \u001b[1;34m\"requirements (such as Epilog, Prolog) or none of the \"\u001b[0m\u001b[1;33m\u001b[0m\u001b[1;33m\u001b[0m\u001b[0m\n\u001b[0;32m    621\u001b[0m                          \"provided files match the filter parameters.\")\n",
      "\u001b[1;31mValueError\u001b[0m: No dataset could be loaded. Either missing requirements (such as Epilog, Prolog) or none of the provided files match the filter parameters."
     ]
    }
   ],
   "source": [
    "global_scene = Scene(reader=\"seviri_l1b_hrit\", filenames=filenames)"
   ]
  },
  {
   "cell_type": "code",
   "execution_count": null,
   "id": "d09c4901",
   "metadata": {},
   "outputs": [],
   "source": []
  }
 ],
 "metadata": {
  "kernelspec": {
   "display_name": "Python [conda env:satdata]",
   "language": "python",
   "name": "conda-env-satdata-py"
  },
  "language_info": {
   "codemirror_mode": {
    "name": "ipython",
    "version": 3
   },
   "file_extension": ".py",
   "mimetype": "text/x-python",
   "name": "python",
   "nbconvert_exporter": "python",
   "pygments_lexer": "ipython3",
   "version": "3.9.7"
  }
 },
 "nbformat": 4,
 "nbformat_minor": 5
}
