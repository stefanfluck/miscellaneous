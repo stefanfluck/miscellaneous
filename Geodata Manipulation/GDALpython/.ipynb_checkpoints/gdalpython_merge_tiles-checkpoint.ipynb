{
 "cells": [
  {
   "cell_type": "markdown",
   "id": "53920571-4758-4125-bad7-6217beac3d7d",
   "metadata": {},
   "source": [
    "# Merge Tiles to large raster with python"
   ]
  },
  {
   "cell_type": "markdown",
   "id": "c6f953f9-5f7c-4839-a1ec-be91f37db83b",
   "metadata": {},
   "source": [
    "Process to transform multiple separate tiles to one large raster file for swissalti3d.\n",
    "- Input: .csv file containing download links to .tif tiles.\n",
    "- Output: merged raster file with target resolution"
   ]
  },
  {
   "cell_type": "markdown",
   "id": "54e0feee-e7b6-42ef-ad5e-396b6375916b",
   "metadata": {},
   "source": [
    "### Define paths"
   ]
  },
  {
   "cell_type": "code",
   "execution_count": 35,
   "id": "80fa7210-6829-43d6-83a8-cfb909a4a8e8",
   "metadata": {},
   "outputs": [],
   "source": [
    "tilelist = r'C:/Users/fluf/Desktop/adelboden_links.csv'\n",
    "wd = r'C:/Users/fluf/Desktop/download'"
   ]
  },
  {
   "cell_type": "markdown",
   "id": "e27b1c0c-d60e-4f3f-8157-172a6c3bbcc3",
   "metadata": {},
   "source": [
    "### set names"
   ]
  },
  {
   "cell_type": "code",
   "execution_count": 60,
   "id": "be3e725d-8f08-40f9-be90-356a985d7288",
   "metadata": {},
   "outputs": [],
   "source": [
    "merged_dem_name = 'adelboden_2m_swissalti3d_merged.tif'\n",
    "keep_tiles_after_merge = False"
   ]
  },
  {
   "cell_type": "markdown",
   "id": "b94ded9f-40ba-4546-90db-cd69c9d96dc1",
   "metadata": {},
   "source": [
    "### Import Modules"
   ]
  },
  {
   "cell_type": "code",
   "execution_count": 1,
   "id": "da228988-2a50-4d51-84a7-bbbfda0153d5",
   "metadata": {},
   "outputs": [],
   "source": [
    "import os\n",
    "import glob\n",
    "import pdal\n",
    "from osgeo import gdal\n",
    "import rasterio\n",
    "from rasterio.fill import fillnodata\n",
    "import numpy as np"
   ]
  },
  {
   "cell_type": "markdown",
   "id": "97075d66-4f43-45a1-9731-7bab840506b7",
   "metadata": {},
   "source": [
    "### Download all the files to folder in desktop"
   ]
  },
  {
   "cell_type": "markdown",
   "id": "3e2501db-9d88-4a28-8fd5-27416184023d",
   "metadata": {},
   "source": [
    "Make download folder"
   ]
  },
  {
   "cell_type": "code",
   "execution_count": 37,
   "id": "d2ee3d21-53d8-4a49-82ae-2795d8fff1bf",
   "metadata": {},
   "outputs": [
    {
     "name": "stdout",
     "output_type": "stream",
     "text": [
      "Folder C:/Users/fluf/Desktop/download already exists\n"
     ]
    }
   ],
   "source": [
    "try:\n",
    "    os.makedirs(wd)\n",
    "    print(\"created {} successfully\".format(wd))\n",
    "except FileExistsError:\n",
    "    print('Folder {} already exists'.format(wd))"
   ]
  },
  {
   "cell_type": "markdown",
   "id": "590aa237-f33c-4948-a708-44e78381b1e9",
   "metadata": {},
   "source": [
    "read tilelist and make list of it"
   ]
  },
  {
   "cell_type": "code",
   "execution_count": 38,
   "id": "52d3f288-923a-4fa0-87dc-e8ad669a856b",
   "metadata": {},
   "outputs": [],
   "source": [
    "with open(tilelist) as f:\n",
    "    tilelist = f.readlines()"
   ]
  },
  {
   "cell_type": "code",
   "execution_count": 39,
   "id": "3a4ee858-c1f0-4952-96d0-cb3aee9613f6",
   "metadata": {},
   "outputs": [],
   "source": [
    "tilelist = [line.rstrip() for line in tilelist]"
   ]
  },
  {
   "cell_type": "code",
   "execution_count": 46,
   "id": "3c5ad176-0b6a-4cb2-8e1f-c48fd1249fbc",
   "metadata": {},
   "outputs": [
    {
     "name": "stdout",
     "output_type": "stream",
     "text": [
      "https://data.geo.admin.ch/ch.swisstopo.swissalti3d/swissalti3d_2019_2584-1131/swissalti3d_2019_2584-1131_2_2056_5728.tif\n",
      "1763\n"
     ]
    }
   ],
   "source": [
    "print(tilelist[0])\n",
    "print(len(tilelist))"
   ]
  },
  {
   "cell_type": "code",
   "execution_count": 49,
   "id": "88ba7e0a-8452-44df-ab9d-1d3337098ecf",
   "metadata": {},
   "outputs": [],
   "source": [
    "import wget\n",
    "os.chdir(wd)\n",
    "it = 0"
   ]
  },
  {
   "cell_type": "code",
   "execution_count": 52,
   "id": "32f79de7-bb4b-4110-a810-1196952a4660",
   "metadata": {},
   "outputs": [
    {
     "name": "stdout",
     "output_type": "stream",
     "text": [
      "\n",
      "downloading file nr 10 / 1763\n",
      "100% [..........................................................................] 1105279 / 1105279\n",
      "downloading file nr 11 / 1763\n",
      "100% [..........................................................................] 1208854 / 1208854\n",
      "downloading file nr 12 / 1763\n",
      "100% [..........................................................................] 1188546 / 1188546\n",
      "downloading file nr 13 / 1763\n",
      "100% [..........................................................................] 1094813 / 1094813\n",
      "downloading file nr 14 / 1763\n",
      "100% [..........................................................................] 1156476 / 1156476"
     ]
    }
   ],
   "source": [
    "for file in tilelist:\n",
    "    print('\\ndownloading file nr {} / {}'.format(it, len(tilelist)))\n",
    "    wget.download(file)\n",
    "    it += 1\n",
    "    "
   ]
  },
  {
   "cell_type": "markdown",
   "id": "cf4ea012-1d12-4653-90b6-e7a507366935",
   "metadata": {},
   "source": [
    "Make List of Tiles"
   ]
  },
  {
   "cell_type": "markdown",
   "id": "64325bdb-3cc4-4493-a1b7-5056ff2dafab",
   "metadata": {},
   "source": [
    "### Merge the Files"
   ]
  },
  {
   "cell_type": "markdown",
   "id": "2b826e44-a8db-41cf-afda-576f96fd8605",
   "metadata": {},
   "source": [
    "make tile list"
   ]
  },
  {
   "cell_type": "code",
   "execution_count": 56,
   "id": "3c866d8f-540c-4845-b4c8-1b3bbbd2a922",
   "metadata": {},
   "outputs": [],
   "source": [
    "tiles = []\n",
    "for file in glob.glob(\"*.tif\"):\n",
    "    tiles.append(file)"
   ]
  },
  {
   "cell_type": "code",
   "execution_count": 58,
   "id": "2805b6d6-d1ce-4531-ba2c-82a5f45e87e4",
   "metadata": {},
   "outputs": [
    {
     "data": {
      "text/plain": [
       "['swissalti3d_2019_2584-1131_2_2056_5728.tif',\n",
       " 'swissalti3d_2019_2584-1132_2_2056_5728.tif',\n",
       " 'swissalti3d_2019_2584-1133_2_2056_5728.tif',\n",
       " 'swissalti3d_2019_2584-1134_2_2056_5728.tif',\n",
       " 'swissalti3d_2019_2584-1135_2_2056_5728.tif',\n",
       " 'swissalti3d_2019_2584-1136_2_2056_5728.tif',\n",
       " 'swissalti3d_2019_2584-1137_2_2056_5728.tif',\n",
       " 'swissalti3d_2019_2584-1138_2_2056_5728.tif',\n",
       " 'swissalti3d_2019_2584-1139_2_2056_5728.tif',\n",
       " 'swissalti3d_2019_2584-1140_2_2056_5728.tif']"
      ]
     },
     "execution_count": 58,
     "metadata": {},
     "output_type": "execute_result"
    }
   ],
   "source": [
    "tiles[0:10]"
   ]
  },
  {
   "cell_type": "markdown",
   "id": "9581a518-7593-4544-b5d0-3b52bf0ef0e7",
   "metadata": {},
   "source": [
    "Loop over tiles"
   ]
  },
  {
   "cell_type": "code",
   "execution_count": 61,
   "id": "7b2eb377-ff18-4e9b-9067-720959b4b680",
   "metadata": {},
   "outputs": [
    {
     "name": "stdout",
     "output_type": "stream",
     "text": [
      "Start merging multiple tiles:\n",
      "\n",
      "Multiple tiles found. Merging now.\n",
      "Merging finished and wrote adelboden_2m_swissalti3d_merged.tif\n"
     ]
    }
   ],
   "source": [
    "print('Start merging multiple tiles:\\n')\n",
    "if len(tiles) > 1:\n",
    "    print('Multiple tiles found. Merging now.')\n",
    "    \n",
    "    vrt = gdal.BuildVRT('merge.vrt', tiles)\n",
    "    vrt = None\n",
    "    \n",
    "    out = gdal.Translate(merged_dem_name, 'merge.vrt')\n",
    "    out = None\n",
    "    \n",
    "    os.remove(\"merge.vrt\")\n",
    "    \n",
    "    print('Merging finished and wrote {}'.format(merged_dem_name))\n",
    "    \n",
    "    if keep_tiles_after_merge == False:\n",
    "        _= [os.remove(file) for file in tiles]\n",
    "    \n",
    "elif len(tiles) == 1:\n",
    "    print('INFO: Only one file, nothing to merge.')\n",
    "    \n",
    "else: \n",
    "    raise FileNotFoundError('Tile list is empty.')"
   ]
  }
 ],
 "metadata": {
  "kernelspec": {
   "display_name": "Python [conda env:gdalenv]",
   "language": "python",
   "name": "conda-env-gdalenv-py"
  },
  "language_info": {
   "codemirror_mode": {
    "name": "ipython",
    "version": 3
   },
   "file_extension": ".py",
   "mimetype": "text/x-python",
   "name": "python",
   "nbconvert_exporter": "python",
   "pygments_lexer": "ipython3",
   "version": "3.9.7"
  }
 },
 "nbformat": 4,
 "nbformat_minor": 5
}
